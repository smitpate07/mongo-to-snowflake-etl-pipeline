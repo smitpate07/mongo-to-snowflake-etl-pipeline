{
 "cells": [
  {
   "cell_type": "code",
   "execution_count": null,
   "id": "af1ede02",
   "metadata": {},
   "outputs": [],
   "source": [
    "from pymongo.mongo_client import MongoClient\n",
    "\n",
    "uri = \"\"\n",
    "\n",
    "# Create a new client and connect to the server\n",
    "client = MongoClient(uri)\n",
    "\n",
    "# Send a ping to confirm a successful connection\n",
    "try:\n",
    "    client.admin.command('ping')\n",
    "    print(\"Pinged your deployment. You successfully connected to MongoDB!\")\n",
    "\n",
    "    db = client.sample_training # Replace 'mydatabase' with your actual database name\n",
    "\n",
    "# Get the list of collection names\n",
    "    collection_names = db['grades'].count_documents({})\n",
    "\n",
    "    print(f\"Total documents in the collection: {collection_names}\")\n",
    "\n",
    "\n",
    "# Close the connection (optional, but good practice)\n",
    "    client.close()\n",
    "except Exception as e:\n",
    "    print(e)"
   ]
  },
  {
   "cell_type": "code",
   "execution_count": null,
   "id": "e0d5eab6",
   "metadata": {},
   "outputs": [],
   "source": [
    "import snowflake.connector\n",
    "\n",
    "# Snowflake connection parameters\n",
    "# Replace with your actual credentials and details\n",
    "SNOWFLAKE_USER = \"\"\n",
    "SNOWFLAKE_PASSWORD = \"\"\n",
    "SNOWFLAKE_ACCOUNT = \"\"  \n",
    "SNOWFLAKE_WAREHOUSE = \"\"\n",
    "SNOWFLAKE_DATABASE = \"\"\n",
    "SNOWFLAKE_SCHEMA = \"\"\n",
    "\n",
    "try:\n",
    "    # Establish the connection\n",
    "    conn = snowflake.connector.connect(\n",
    "        user=SNOWFLAKE_USER,\n",
    "        password=SNOWFLAKE_PASSWORD,\n",
    "        account=SNOWFLAKE_ACCOUNT,\n",
    "        warehouse=SNOWFLAKE_WAREHOUSE,\n",
    "        database=SNOWFLAKE_DATABASE,\n",
    "        schema=SNOWFLAKE_SCHEMA\n",
    "    )\n",
    "\n",
    "    # Create a cursor object to execute SQL statements\n",
    "    cursor = conn.cursor()\n",
    "\n",
    "    # Example: Execute a simple query\n",
    "    cursor.execute(\"SELECT CURRENT_VERSION()\")\n",
    "    one_row = cursor.fetchone()\n",
    "    print(f\"Snowflake Version: {one_row[0]}\")\n",
    "\n",
    "    # Close the cursor and connection\n",
    "    cursor.close()\n",
    "    conn.close()\n",
    "    print(\"Successfully connected to Snowflake and retrieved version.\")\n",
    "\n",
    "except snowflake.connector.errors.ProgrammingError as e:\n",
    "    print(f\"Error connecting to Snowflake: {e}\")\n",
    "except Exception as e:\n",
    "    print(f\"An unexpected error occurred: {e}\")"
   ]
  }
 ],
 "metadata": {
  "kernelspec": {
   "display_name": "Python 3",
   "language": "python",
   "name": "python3"
  },
  "language_info": {
   "codemirror_mode": {
    "name": "ipython",
    "version": 3
   },
   "file_extension": ".py",
   "mimetype": "text/x-python",
   "name": "python",
   "nbconvert_exporter": "python",
   "pygments_lexer": "ipython3",
   "version": "3.11.0"
  }
 },
 "nbformat": 4,
 "nbformat_minor": 5
}
